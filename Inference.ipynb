{
 "cells": [
  {
   "cell_type": "code",
   "execution_count": 1,
   "metadata": {},
   "outputs": [
    {
     "name": "stderr",
     "output_type": "stream",
     "text": [
      "Using TensorFlow backend.\n"
     ]
    }
   ],
   "source": [
    "import numpy as np\n",
    "import pandas as pd\n",
    "import pydicom\n",
    "%matplotlib inline\n",
    "import matplotlib.pyplot as plt\n",
    "import keras\n",
    "from keras.models import model_from_json\n",
    "from skimage.transform import resize"
   ]
  },
  {
   "cell_type": "code",
   "execution_count": 15,
   "metadata": {},
   "outputs": [],
   "source": [
    "# This function reads in a .dcm file, checks the important fields for our device, and returns a numpy array\n",
    "# of just the imaging data\n",
    "def check_dicom(filename):\n",
    "    \n",
    "    # todo\n",
    "    \n",
    "    print('Load file {} ...'.format(filename))\n",
    "    ds = pydicom.dcmread(filename)       \n",
    "    \n",
    "    #Check basic image data\n",
    "    if ds.PatientPosition not in ['PA','AP']:\n",
    "        print(\"Invalid image view/position\")\n",
    "        return None, None\n",
    "    \n",
    "    if ds.Modality != 'DX':\n",
    "        print(\"Invalid image type\")\n",
    "        return None, None\n",
    "    \n",
    "    if ds.BodyPartExamined != 'CHEST':\n",
    "        print(\"Invalid body part\")\n",
    "        return None, None\n",
    "    \n",
    "    img = ds.pixel_array\n",
    "    return img, ds.StudyDescription\n",
    "    \n",
    "    \n",
    "# This function takes the numpy array output by check_dicom and \n",
    "# runs the appropriate pre-processing needed for our model input\n",
    "def preprocess_image(img,img_size): \n",
    "    \n",
    "    resize_img = resize(img, img_size) #resizing\n",
    "    proc_img = (resize_img - resize_img.mean())/225 #Normalization\n",
    "    \n",
    "    return proc_img\n",
    "\n",
    "# This function loads in our trained model w/ weights and compiles it \n",
    "def load_model(model_path, weight_path):\n",
    "    json_file = open(model_path, \"r\")\n",
    "    loaded_model = json_file.read()\n",
    "    json_file.close()\n",
    "    model = model_from_json(loaded_model)\n",
    "    model.load_weights(weight_path)  \n",
    "    \n",
    "    return model\n",
    "\n",
    "# This function uses our device's threshold parameters to predict whether or not\n",
    "# the image shows the presence of pneumonia using our trained model\n",
    "def predict_image(model, img, thresh): \n",
    "    if model.predict(img) > thresh:\n",
    "        prediction = \"Positive for Pneumonia\"\n",
    "    else:\n",
    "        prediction = \"Negative for Pneumonia\"\n",
    "    \n",
    "    return prediction "
   ]
  },
  {
   "cell_type": "code",
   "execution_count": 19,
   "metadata": {},
   "outputs": [
    {
     "name": "stdout",
     "output_type": "stream",
     "text": [
      "Load file test1.dcm ...\n",
      "Model prediction: Negative for Pneumonia vs True Label: No Finding\n",
      "Load file test2.dcm ...\n",
      "Model prediction: Negative for Pneumonia vs True Label: Cardiomegaly\n",
      "Load file test3.dcm ...\n",
      "Model prediction: Negative for Pneumonia vs True Label: Effusion\n",
      "Load file test4.dcm ...\n",
      "Invalid body part\n",
      "Load file test5.dcm ...\n",
      "Invalid image type\n",
      "Load file test6.dcm ...\n",
      "Invalid image view/position\n"
     ]
    }
   ],
   "source": [
    "test_dicoms = ['test1.dcm','test2.dcm','test3.dcm','test4.dcm','test5.dcm','test6.dcm']\n",
    "\n",
    "model_path = \"my_model.json\"  #path to saved model\n",
    "weight_path = \"xray_class_my_model.best.hdf5\" #path to saved best weights\n",
    "\n",
    "img_size=(1,224,224,3) # This might be different if you did not use vgg16\n",
    "\n",
    "#img_mean = np.mean(img)# loads the mean image value they used during training preprocessing\n",
    "#img_std = 255 # loads the std dev image value they used during training preprocessing\n",
    "\n",
    "my_model = load_model(model_path, weight_path) #loads model\n",
    "thresh = 0.8 #loads the threshold they chose for model classification \n",
    "\n",
    "# use the .dcm files to test your prediction\n",
    "for i in test_dicoms:\n",
    "    \n",
    "    img = np.array([])\n",
    "    img, label = check_dicom(i) \n",
    "    \n",
    "    if img is None:\n",
    "        continue\n",
    "        \n",
    "    img_proc = preprocess_image(img,IMG_SIZE)\n",
    "    pred = predict_image(my_model,img_proc,thresh)\n",
    "    print('Model prediction: {} vs True Label: {}'.format(pred, label))"
   ]
  },
  {
   "cell_type": "code",
   "execution_count": null,
   "metadata": {},
   "outputs": [],
   "source": []
  }
 ],
 "metadata": {
  "kernelspec": {
   "display_name": "Python 3",
   "language": "python",
   "name": "python3"
  },
  "language_info": {
   "codemirror_mode": {
    "name": "ipython",
    "version": 3
   },
   "file_extension": ".py",
   "mimetype": "text/x-python",
   "name": "python",
   "nbconvert_exporter": "python",
   "pygments_lexer": "ipython3",
   "version": "3.7.6"
  }
 },
 "nbformat": 4,
 "nbformat_minor": 2
}
